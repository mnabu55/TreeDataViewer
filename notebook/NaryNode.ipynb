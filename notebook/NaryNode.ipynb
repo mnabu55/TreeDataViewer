{
  "nbformat": 4,
  "nbformat_minor": 0,
  "metadata": {
    "colab": {
      "name": "NaryNode.ipynb",
      "provenance": []
    },
    "kernelspec": {
      "name": "python3",
      "display_name": "Python 3"
    },
    "language_info": {
      "name": "python"
    }
  },
  "cells": [
    {
      "cell_type": "code",
      "metadata": {
        "id": "7MTnTZAf7rBE"
      },
      "source": [
        "class NaryNode:\n",
        "    def __init__(self, value):\n",
        "        self.value = value\n",
        "        self.children = []\n",
        "\n",
        "    def add_child(self, node):\n",
        "        self.children.append(node)\n",
        "\n",
        "    def __str__(self):\n",
        "        return \"{}: \".format(self.value) + \" \".join([str(x.value) for x in self.children])"
      ],
      "execution_count": 1,
      "outputs": []
    },
    {
      "cell_type": "code",
      "metadata": {
        "colab": {
          "base_uri": "https://localhost:8080/"
        },
        "id": "nmocTSOs7vTu",
        "outputId": "d5482ea2-ddbb-4812-ebae-76a94245e648"
      },
      "source": [
        "def main():\n",
        "    Root = NaryNode(\"Root\")\n",
        "    A = NaryNode(\"A\")\n",
        "    B = NaryNode(\"B\")\n",
        "    C = NaryNode(\"C\")\n",
        "    D = NaryNode(\"D\")\n",
        "    E = NaryNode(\"E\")\n",
        "    F = NaryNode(\"F\")\n",
        "    G = NaryNode(\"G\")\n",
        "    H = NaryNode(\"H\")\n",
        "    I = NaryNode(\"I\")\n",
        "    Root.add_child(A)\n",
        "    Root.add_child(B)\n",
        "    Root.add_child(C)\n",
        "    A.add_child(D)\n",
        "    A.add_child(E)\n",
        "    C.add_child(F)\n",
        "    D.add_child(G)\n",
        "    F.add_child(H)\n",
        "    F.add_child(I)\n",
        "\n",
        "    print(Root)\n",
        "    print(A)\n",
        "    print(B)\n",
        "    print(C)\n",
        "    print(D)\n",
        "    print(E)\n",
        "    print(F)\n",
        "    print(G)\n",
        "    print(H)\n",
        "    print(I)\n",
        "\n",
        "\n",
        "if __name__ == \"__main__\":\n",
        "    main()\n"
      ],
      "execution_count": 2,
      "outputs": [
        {
          "output_type": "stream",
          "name": "stdout",
          "text": [
            "Root: A B C\n",
            "A: D E\n",
            "B: \n",
            "C: F\n",
            "D: G\n",
            "E: \n",
            "F: H I\n",
            "G: \n",
            "H: \n",
            "I: \n"
          ]
        }
      ]
    },
    {
      "cell_type": "code",
      "metadata": {
        "id": "dg9V-zg_7xYX"
      },
      "source": [
        ""
      ],
      "execution_count": null,
      "outputs": []
    }
  ]
}