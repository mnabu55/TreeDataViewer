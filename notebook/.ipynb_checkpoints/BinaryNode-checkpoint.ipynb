{
 "cells": [
  {
   "cell_type": "code",
   "execution_count": 6,
   "metadata": {
    "id": "3WqvmvKI7XvP"
   },
   "outputs": [],
   "source": [
    "class BinaryNode:\n",
    "    '''A class to represent a binary node.\n",
    "    '''\n",
    "    def __init__(self, value, left=None, right=None) -> None:\n",
    "        self.value = value\n",
    "        self.left_child = left\n",
    "        self.right_child = right\n",
    "\n",
    "    def add_left(self, node) -> None:\n",
    "        self.left_child = node\n",
    "\n",
    "    def add_right(self, node) -> None:\n",
    "        self.right_child = node\n",
    "\n",
    "    def __str__(self) -> str:\n",
    "        left_value = self.left_child.value if self.left_child is not None else \"None\"\n",
    "        right_value = self.right_child.value if self.right_child is not None else \"None\"\n",
    "        return f\"{self.value}: {left_value} {right_value}\""
   ]
  },
  {
   "cell_type": "code",
   "execution_count": 7,
   "metadata": {
    "colab": {
     "base_uri": "https://localhost:8080/"
    },
    "id": "JFIwwZf_7gAf",
    "outputId": "ff441837-f405-4281-c52b-a2613b720660"
   },
   "outputs": [
    {
     "name": "stdout",
     "output_type": "stream",
     "text": [
      "Root: A B\n",
      "A: C D\n",
      "B: None E\n",
      "C: None None\n",
      "D: None None\n",
      "E: F None\n",
      "F: None None\n"
     ]
    }
   ],
   "source": [
    "def main():\n",
    "    A = BinaryNode(\"A\")\n",
    "    B = BinaryNode(\"B\")\n",
    "    C = BinaryNode(\"C\")\n",
    "    D = BinaryNode(\"D\")\n",
    "    E = BinaryNode(\"E\")\n",
    "    F = BinaryNode(\"F\")\n",
    "    Root = BinaryNode(\"Root\")\n",
    "    Root.add_left(A)\n",
    "    Root.add_right(B)\n",
    "    A.add_left(C)\n",
    "    A.add_right(D)\n",
    "    B.add_right(E)\n",
    "    E.add_left(F)\n",
    "\n",
    "    print(Root)\n",
    "    print(A)\n",
    "    print(B)\n",
    "    print(C)\n",
    "    print(D)\n",
    "    print(E)\n",
    "    print(F)\n",
    "\n",
    "\n",
    "if __name__ == \"__main__\":\n",
    "    main()\n"
   ]
  },
  {
   "cell_type": "code",
   "execution_count": null,
   "metadata": {
    "id": "-Sq1jMy57lFZ"
   },
   "outputs": [],
   "source": []
  }
 ],
 "metadata": {
  "colab": {
   "name": "BinaryNode.ipynb",
   "provenance": []
  },
  "kernelspec": {
   "display_name": "Python 3 (ipykernel)",
   "language": "python",
   "name": "python3"
  },
  "language_info": {
   "codemirror_mode": {
    "name": "ipython",
    "version": 3
   },
   "file_extension": ".py",
   "mimetype": "text/x-python",
   "name": "python",
   "nbconvert_exporter": "python",
   "pygments_lexer": "ipython3",
   "version": "3.7.9"
  }
 },
 "nbformat": 4,
 "nbformat_minor": 1
}
