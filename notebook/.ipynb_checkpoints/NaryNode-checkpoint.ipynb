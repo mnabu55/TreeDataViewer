{
 "cells": [
  {
   "cell_type": "code",
   "execution_count": 3,
   "metadata": {
    "id": "7MTnTZAf7rBE"
   },
   "outputs": [],
   "source": [
    "class NaryNode:\n",
    "    '''A class to represent a nary node.\n",
    "    '''\n",
    "    def __init__(self, value) -> None:\n",
    "        self.value = value\n",
    "        self.children = []\n",
    "\n",
    "    def add_child(self, node) -> None:\n",
    "        self.children.append(node)\n",
    "\n",
    "    def __str__(self) -> str:\n",
    "        return f\"{self.value}: \" + \" \".join([str(x.value) for x in self.children])\n"
   ]
  },
  {
   "cell_type": "code",
   "execution_count": 4,
   "metadata": {
    "colab": {
     "base_uri": "https://localhost:8080/"
    },
    "id": "nmocTSOs7vTu",
    "outputId": "d5482ea2-ddbb-4812-ebae-76a94245e648"
   },
   "outputs": [
    {
     "name": "stdout",
     "output_type": "stream",
     "text": [
      "Root: A B C\n",
      "A: D E\n",
      "B: \n",
      "C: F\n",
      "D: G\n",
      "E: \n",
      "F: H I\n",
      "G: \n",
      "H: \n",
      "I: \n"
     ]
    }
   ],
   "source": [
    "def main():\n",
    "    Root = NaryNode(\"Root\")\n",
    "    A = NaryNode(\"A\")\n",
    "    B = NaryNode(\"B\")\n",
    "    C = NaryNode(\"C\")\n",
    "    D = NaryNode(\"D\")\n",
    "    E = NaryNode(\"E\")\n",
    "    F = NaryNode(\"F\")\n",
    "    G = NaryNode(\"G\")\n",
    "    H = NaryNode(\"H\")\n",
    "    I = NaryNode(\"I\")\n",
    "    Root.add_child(A)\n",
    "    Root.add_child(B)\n",
    "    Root.add_child(C)\n",
    "    A.add_child(D)\n",
    "    A.add_child(E)\n",
    "    C.add_child(F)\n",
    "    D.add_child(G)\n",
    "    F.add_child(H)\n",
    "    F.add_child(I)\n",
    "\n",
    "    print(Root)\n",
    "    print(A)\n",
    "    print(B)\n",
    "    print(C)\n",
    "    print(D)\n",
    "    print(E)\n",
    "    print(F)\n",
    "    print(G)\n",
    "    print(H)\n",
    "    print(I)\n",
    "\n",
    "\n",
    "if __name__ == \"__main__\":\n",
    "    main()\n"
   ]
  },
  {
   "cell_type": "code",
   "execution_count": null,
   "metadata": {
    "id": "dg9V-zg_7xYX"
   },
   "outputs": [],
   "source": []
  }
 ],
 "metadata": {
  "colab": {
   "name": "NaryNode.ipynb",
   "provenance": []
  },
  "kernelspec": {
   "display_name": "Python 3 (ipykernel)",
   "language": "python",
   "name": "python3"
  },
  "language_info": {
   "codemirror_mode": {
    "name": "ipython",
    "version": 3
   },
   "file_extension": ".py",
   "mimetype": "text/x-python",
   "name": "python",
   "nbconvert_exporter": "python",
   "pygments_lexer": "ipython3",
   "version": "3.7.9"
  }
 },
 "nbformat": 4,
 "nbformat_minor": 1
}
