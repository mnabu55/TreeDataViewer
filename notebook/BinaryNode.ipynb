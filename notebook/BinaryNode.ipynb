{
  "nbformat": 4,
  "nbformat_minor": 0,
  "metadata": {
    "colab": {
      "name": "BinaryNode.ipynb",
      "provenance": []
    },
    "kernelspec": {
      "name": "python3",
      "display_name": "Python 3"
    },
    "language_info": {
      "name": "python"
    }
  },
  "cells": [
    {
      "cell_type": "code",
      "metadata": {
        "id": "3WqvmvKI7XvP"
      },
      "source": [
        "class BinaryNode:\n",
        "    def __init__(self, value):\n",
        "        self.value = value\n",
        "        self.left_child = None\n",
        "        self.right_child = None\n",
        "\n",
        "    def add_left(self, node):\n",
        "        self.left_child = node\n",
        "\n",
        "    def add_right(self, node):\n",
        "        self.right_child = node\n",
        "\n",
        "    def __str__(self):\n",
        "        left_value = self.left_child.value if self.left_child is not None else \"None\"\n",
        "        right_value = self.right_child.value if self.right_child is not None else \"None\"\n",
        "        return \"{}: {} {}\".format(self.value, left_value, right_value)"
      ],
      "execution_count": null,
      "outputs": []
    },
    {
      "cell_type": "code",
      "metadata": {
        "id": "JFIwwZf_7gAf",
        "colab": {
          "base_uri": "https://localhost:8080/"
        },
        "outputId": "ff441837-f405-4281-c52b-a2613b720660"
      },
      "source": [
        "def main():\n",
        "    A = BinaryNode(\"A\")\n",
        "    B = BinaryNode(\"B\")\n",
        "    C = BinaryNode(\"C\")\n",
        "    D = BinaryNode(\"D\")\n",
        "    E = BinaryNode(\"E\")\n",
        "    F = BinaryNode(\"F\")\n",
        "    Root = BinaryNode(\"Root\")\n",
        "    Root.add_left(A)\n",
        "    Root.add_right(B)\n",
        "    A.add_left(C)\n",
        "    A.add_right(D)\n",
        "    B.add_right(E)\n",
        "    E.add_left(F)\n",
        "\n",
        "    print(Root)\n",
        "    print(A)\n",
        "    print(B)\n",
        "    print(C)\n",
        "    print(D)\n",
        "    print(E)\n",
        "    print(F)\n",
        "\n",
        "\n",
        "if __name__ == \"__main__\":\n",
        "    main()\n"
      ],
      "execution_count": null,
      "outputs": [
        {
          "output_type": "stream",
          "name": "stdout",
          "text": [
            "Root: A B\n",
            "A: C D\n",
            "B: None E\n",
            "C: None None\n",
            "D: None None\n",
            "E: F None\n",
            "F: None None\n"
          ]
        }
      ]
    },
    {
      "cell_type": "code",
      "metadata": {
        "id": "-Sq1jMy57lFZ"
      },
      "source": [
        ""
      ],
      "execution_count": null,
      "outputs": []
    }
  ]
}